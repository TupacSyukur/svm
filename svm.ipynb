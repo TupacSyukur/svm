{
 "cells": [
  {
   "cell_type": "code",
   "execution_count": 2,
   "metadata": {},
   "outputs": [],
   "source": [
    "import pickle\n",
    "import numpy as np\n",
    "import matplotlib.pyplot as plt\n",
    "%matplotlib inline\n",
    "\n",
    "from cvxopt import matrix, solvers"
   ]
  },
  {
   "cell_type": "code",
   "execution_count": 3,
   "metadata": {},
   "outputs": [],
   "source": [
    "COLORS = ['red', 'blue']\n",
    "\n",
    "x_train = np.array([[0.20, 0.20], [-0.10, 0.50], [0.30, 0.20],\n",
    "                    [0.10, 0.50], [0.30, 0.10], [0.00, 0.30],\n",
    "                    [0.40, 0.50], [-0.30, -0.30], [0.10, -0.40],\n",
    "                    [-0.10, -0.30], [0.00, -0.50], [-0.30, -0.10],\n",
    "                    [-0.50, -0.40], [-0.40, -0.20]])\n",
    "\n",
    "y_train = np.array([1., 1., 1., 1., 1., 1., 1., -1., -1., -1., -1., -1., -1., -1.,])\n",
    "\n",
    "x_test = np.array([\n",
    "    [-0.40, 0.40], [-0.50, 0.50], [-0.40, 0.50], [-0.30, 0.40],\n",
    "    [0.50, 0.00], [0.40, 0.10], [0.50, 0.40], [0.10, 0.30],\n",
    "    [0.20, 0.30], [-0.30, 0.50], [0.30, 0.40], [0.10, 0.20],\n",
    "    [0.50, 0.20], [-0.10, 0.30], [0.00, 0.50], [0.50, -0.50],\n",
    "    [0.50, -0.40], [-0.50, 0.10], [-0.10, -0.20], [0.00, -0.30],\n",
    "    [0.30, -0.30], [-0.40, -0.10], [0.30, -0.40], [0.10, -0.30],\n",
    "    [0.10, -0.50], [-0.20, -0.20], [-0.30, -0.20], [-0.50, -0.10],\n",
    "    [-0.40, -0.40], [-0.50, -0.50], [-0.20, -0.50], [-0.20, -0.40],\n",
    "])\n",
    "\n",
    "y_test = np.array([1., 1., 1., 1., 1., 1., 1., 1., 1., 1., 1., 1., 1., 1., 1.,\n",
    " -1., -1., -1., -1., -1., -1., -1., -1., -1., -1., -1., -1., -1., -1., -1., -1., -1.,])\n",
    "\n",
    "n_train, D = x_train.shape\n",
    "n_test, _ = x_test.shape"
   ]
  },
  {
   "cell_type": "code",
   "execution_count": 4,
   "metadata": {},
   "outputs": [],
   "source": [
    "def scatter_plot(ax, x, y):\n",
    "    unique = np.unique(y)\n",
    "    for li in range(len(unique)):\n",
    "        x_s = x[y==unique[li]]\n",
    "        ax.set_xticks(np.arange(-1, 1, 0.1))\n",
    "        ax.set_yticks(np.arange(-1, 1., 0.1))\n",
    "        ax.scatter(x_s[:, 0], x_s[:,1], c=COLORS[li])\n",
    "        ax.grid(b=True, which='both', color='k', linestyle='-', linewidth=.1)"
   ]
  },
  {
   "cell_type": "code",
   "execution_count": 5,
   "metadata": {},
   "outputs": [
    {
     "name": "stderr",
     "output_type": "stream",
     "text": [
      "C:\\Users\\rifqi\\AppData\\Local\\Temp\\ipykernel_19380\\1677068334.py:8: MatplotlibDeprecationWarning: The 'b' parameter of grid() has been renamed 'visible' since Matplotlib 3.5; support for the old name will be dropped two minor releases later.\n",
      "  ax.grid(b=True, which='both', color='k', linestyle='-', linewidth=.1)\n"
     ]
    },
    {
     "data": {
      "image/png": "[encoded data removed]",
      "text/plain": [
       "<Figure size 432x288 with 1 Axes>"
      ]
     },
     "metadata": {
      "needs_background": "light"
     },
     "output_type": "display_data"
    }
   ],
   "source": [
    "fig, ax = plt.subplots()\n",
    "scatter_plot(ax, x_train, y_train)\n",
    "plt.show()"
   ]
  },
  {
   "cell_type": "code",
   "execution_count": 13,
   "metadata": {},
   "outputs": [
    {
     "name": "stdout",
     "output_type": "stream",
     "text": [
      "[[ 0.2  0.2]\n",
      " [-0.1  0.5]\n",
      " [ 0.3  0.2]\n",
      " [ 0.1  0.5]\n",
      " [ 0.3  0.1]\n",
      " [ 0.   0.3]\n",
      " [ 0.4  0.5]\n",
      " [ 0.3  0.3]\n",
      " [-0.1  0.4]\n",
      " [ 0.1  0.3]\n",
      " [-0.   0.5]\n",
      " [ 0.3  0.1]\n",
      " [ 0.5  0.4]\n",
      " [ 0.4  0.2]]\n",
      "     pcost       dcost       gap    pres   dres\n",
      " 0: -3.9566e+00 -9.9644e+00  2e+01  4e+00  2e+00\n",
      " 1: -5.3822e+00 -8.3614e+00  4e+00  4e-01  2e-01\n",
      " 2: -7.3460e+00 -8.2900e+00  1e+00  7e-02  3e-02\n",
      " 3: -7.9669e+00 -8.0139e+00  5e-02  5e-04  2e-04\n",
      " 4: -7.9986e+00 -8.0008e+00  2e-03  6e-06  2e-06\n",
      " 5: -7.9999e+00 -8.0001e+00  2e-04  2e-09  8e-10\n",
      " 6: -8.0000e+00 -8.0000e+00  3e-05  2e-15  2e-16\n",
      " 7: -8.0000e+00 -8.0000e+00  4e-06  9e-16  2e-16\n",
      "Optimal solution found.\n"
     ]
    }
   ],
   "source": [
    "K = y_train[:, None] * x_train\n",
    "KKt = K.dot(K.T)\n",
    "P = matrix(KKt)\n",
    "q = matrix(-np.ones((n_train, 1))) \n",
    "G = matrix(-np.eye(n_train))\n",
    "h = matrix(np.zeros(n_train))\n",
    "A = matrix(y_train.reshape(1, -1))\n",
    "b = matrix(np.zeros(1))\n",
    "\n",
    "solvers.options['show progress'] = True\n",
    "qp_solver = solvers.qp(P, q, G, h, A, b)\n",
    "\n",
    "alpha = np.array(qp_solver['x'])"
   ]
  },
  {
   "cell_type": "code",
   "execution_count": 7,
   "metadata": {},
   "outputs": [
    {
     "name": "stdout",
     "output_type": "stream",
     "text": [
      "alpha =  [[0. 0. 0. 0. 0. 8. 0. 0. 0. 0. 0. 8. 0. 0.]]\n"
     ]
    }
   ],
   "source": [
    "print('alpha = ', np.round(alpha.T, 2))"
   ]
  },
  {
   "cell_type": "code",
   "execution_count": 8,
   "metadata": {},
   "outputs": [
    {
     "name": "stdout",
     "output_type": "stream",
     "text": [
      "w = [2.39852179 3.20110867]\n"
     ]
    }
   ],
   "source": [
    "w = np.sum(alpha*y_train[:, None] * x_train, axis=0)\n",
    "print('w =', w)"
   ]
  },
  {
   "cell_type": "code",
   "execution_count": 9,
   "metadata": {},
   "outputs": [
    {
     "name": "stdout",
     "output_type": "stream",
     "text": [
      "bias = 0.03966739921779361\n"
     ]
    }
   ],
   "source": [
    "th = (alpha> 1e-4).reshape(-1)\n",
    "\n",
    "b = y_train[th]-x_train[th].dot(w)\n",
    "bias = b[0]\n",
    "print('bias =', bias)"
   ]
  },
  {
   "cell_type": "code",
   "execution_count": 10,
   "metadata": {},
   "outputs": [
    {
     "name": "stderr",
     "output_type": "stream",
     "text": [
      "C:\\Users\\rifqi\\AppData\\Local\\Temp\\ipykernel_19380\\1677068334.py:8: MatplotlibDeprecationWarning: The 'b' parameter of grid() has been renamed 'visible' since Matplotlib 3.5; support for the old name will be dropped two minor releases later.\n",
      "  ax.grid(b=True, which='both', color='k', linestyle='-', linewidth=.1)\n"
     ]
    },
    {
     "data": {
      "image/png": "[encoded data removed]",
      "text/plain": [
       "<Figure size 432x288 with 1 Axes>"
      ]
     },
     "metadata": {
      "needs_background": "light"
     },
     "output_type": "display_data"
    }
   ],
   "source": [
    "norm = np.linalg.norm(w)\n",
    "w, bias = w/norm, bias/norm\n",
    "fig, ax = plt.subplots()\n",
    "\n",
    "m = -w[0]/w[1]\n",
    "intercept = -bias/w[1]\n",
    "x2 = np.arange(-.5, 1)\n",
    "ax.plot(x2, x2*m + intercept, 'k-')\n",
    "scatter_plot(ax, x_train, y_train)\n",
    "plt.show()"
   ]
  }
 ],
 "metadata": {
  "kernelspec": {
   "display_name": "Python 3.9.7 64-bit",
   "language": "python",
   "name": "python3"
  },
  "language_info": {
   "codemirror_mode": {
    "name": "ipython",
    "version": 3
   },
   "file_extension": ".py",
   "mimetype": "text/x-python",
   "name": "python",
   "nbconvert_exporter": "python",
   "pygments_lexer": "ipython3",
   "version": "3.9.7"
  },
  "orig_nbformat": 4,
  "vscode": {
   "interpreter": {
    "hash": "dd17b983aecf72ef40e9c6a4e56eb7941f7378d127978c5f4b404e313ddcbb7b"
   }
  }
 },
 "nbformat": 4,
 "nbformat_minor": 2
}
