{
 "cells": [
  {
   "cell_type": "code",
   "execution_count": 2,
   "metadata": {},
   "outputs": [],
   "source": [
    "import pickle\n",
    "import numpy as np\n",
    "import matplotlib.pyplot as plt\n",
    "%matplotlib inline\n",
    "\n",
    "from cvxopt import matrix, solvers"
   ]
  },
  {
   "cell_type": "code",
   "execution_count": 16,
   "metadata": {},
   "outputs": [],
   "source": [
    "COLORS = ['red', 'blue']\n",
    "\n",
    "x_train = np.array([[0.20, 0.20], [-0.10, 0.50], [0.30, 0.20],\n",
    "                    [0.10, 0.50], [0.30, 0.10], [0.00, 0.30],\n",
    "                    [0.40, 0.50], [-0.30, -0.30], [0.10, -0.40],\n",
    "                    [-0.10, -0.30], [0.00, -0.50], [-0.30, -0.10],\n",
    "                    [-0.50, -0.40], [-0.40, -0.20]])\n",
    "\n",
    "y_train = np.array([1., 1., 1., 1., 1., 1., 1., -1., -1., -1., -1., -1., -1., -1.,])\n",
    "\n",
    "x_test = np.array([\n",
    "    [-0.40, 0.40], [-0.50, 0.50], [-0.40, 0.50], [-0.30, 0.40],\n",
    "    [0.50, 0.00], [0.40, 0.10], [0.50, 0.40], [0.10, 0.30],\n",
    "    [0.20, 0.30], [-0.30, 0.50], [0.30, 0.40], [0.10, 0.20],\n",
    "    [0.50, 0.20], [-0.10, 0.30], [0.00, 0.50], [0.50, -0.50],\n",
    "    [0.50, -0.40], [-0.50, 0.10], [-0.10, -0.20], [0.00, -0.30],\n",
    "    [0.30, -0.30], [-0.40, -0.10], [0.30, -0.40], [0.10, -0.30],\n",
    "    [0.10, -0.50], [-0.20, -0.20], [-0.30, -0.20], [-0.50, -0.10],\n",
    "    [-0.40, -0.40], [-0.50, -0.50], [-0.20, -0.50], [-0.20, -0.40],\n",
    "])\n",
    "\n",
    "y_test = np.array([1., 1., 1., 1., 1., 1., 1., 1., 1., 1., 1., 1., 1., 1., 1.,\n",
    " -1., -1., -1., -1., -1., -1., -1., -1., -1., -1., -1., -1., -1., -1., -1., -1., -1.,])\n",
    "\n",
    "n_train, D = x_train.shape\n",
    "n_test, _ = x_test.shape"
   ]
  },
  {
   "cell_type": "code",
   "execution_count": 19,
   "metadata": {},
   "outputs": [],
   "source": [
    "def scatter_plot(ax, x, y):\n",
    "    unique = np.unique(y)\n",
    "    for li in range(len(unique)):\n",
    "        x_s = x[y==unique[li]]\n",
    "        ax.set_xticks(np.arange(-1, 1, 0.1))\n",
    "        ax.set_yticks(np.arange(-1, 1., 0.1))\n",
    "        ax.scatter(x_s[:, 0], x_s[:,1], c=COLORS[li])\n",
    "        ax.grid(b=True, which='both', color='k', linestyle='-', linewidth=.1)"
   ]
  },
  {
   "cell_type": "code",
   "execution_count": 20,
   "metadata": {},
   "outputs": [
    {
     "name": "stdout",
     "output_type": "stream",
     "text": [
      "[[-0.3 -0.3]\n",
      " [ 0.1 -0.4]\n",
      " [-0.1 -0.3]\n",
      " [ 0.  -0.5]\n",
      " [-0.3 -0.1]\n",
      " [-0.5 -0.4]\n",
      " [-0.4 -0.2]]\n",
      "[[ 0.2  0.2]\n",
      " [-0.1  0.5]\n",
      " [ 0.3  0.2]\n",
      " [ 0.1  0.5]\n",
      " [ 0.3  0.1]\n",
      " [ 0.   0.3]\n",
      " [ 0.4  0.5]]\n"
     ]
    },
    {
     "name": "stderr",
     "output_type": "stream",
     "text": [
      "C:\\Users\\rifqi\\AppData\\Local\\Temp\\ipykernel_4504\\1597267379.py:9: MatplotlibDeprecationWarning: The 'b' parameter of grid() has been renamed 'visible' since Matplotlib 3.5; support for the old name will be dropped two minor releases later.\n",
      "  ax.grid(b=True, which='both', color='k', linestyle='-', linewidth=.1)\n"
     ]
    },
    {
     "data": {
      "image/png": "[encoded data removed]",
      "text/plain": [
       "<Figure size 432x288 with 1 Axes>"
      ]
     },
     "metadata": {
      "needs_background": "light"
     },
     "output_type": "display_data"
    }
   ],
   "source": [
    "fig, ax = plt.subplots()\n",
    "scatter_plot(ax, x_train, y_train)\n",
    "plt.show()"
   ]
  }
 ],
 "metadata": {
  "kernelspec": {
   "display_name": "Python 3.9.7 64-bit",
   "language": "python",
   "name": "python3"
  },
  "language_info": {
   "codemirror_mode": {
    "name": "ipython",
    "version": 3
   },
   "file_extension": ".py",
   "mimetype": "text/x-python",
   "name": "python",
   "nbconvert_exporter": "python",
   "pygments_lexer": "ipython3",
   "version": "3.9.7"
  },
  "orig_nbformat": 4,
  "vscode": {
   "interpreter": {
    "hash": "dd17b983aecf72ef40e9c6a4e56eb7941f7378d127978c5f4b404e313ddcbb7b"
   }
  }
 },
 "nbformat": 4,
 "nbformat_minor": 2
}
